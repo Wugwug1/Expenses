{
 "cells": [
  {
   "cell_type": "code",
   "execution_count": null,
   "id": "287ab6e7-1f55-4f2d-a7f4-ddc55534c562",
   "metadata": {},
   "outputs": [],
   "source": [
    "# a small programm that lets you add expenses to a dictionary and compares the old and the new costs\n",
    "\n",
    "monthly = {\"low_cost_fitnesscenter\": 20.00, \"car_insurance\": 66.12, \"parking_allowance\": 10, \"gas_for_car\": 50.5, \"car_repairs\": 50}\n",
    "\n",
    "# Function to sum multiple bills\n",
    "def combine_bills(*args):\n",
    "    return sum(args)\n",
    "\n",
    "# Calculate yearly total and convert to monthly\n",
    "yearly_total = combine_bills(50, 46, 40, 55, 50, 60, 45, 40, 40, 60, 40, 45, 35)\n",
    "monthly_total = yearly_total / 12\n",
    "\n",
    "# Allow user to add extra expenses\n",
    "while True:\n",
    "    new_expense = input(\"Enter a new expense name (or type 'done' to finish): \")\n",
    "    if new_expense.lower() == \"done\":\n",
    "        break  # Exit the loop\n",
    "\n",
    "    try:\n",
    "        cost = float(input(f\"Enter the cost for {new_expense}: \"))\n",
    "        monthly[new_expense] = cost  # Add to dictionary\n",
    "    except ValueError:\n",
    "        print(\"Invalid input. Please enter a number.\")\n",
    "\n",
    "# Calculate old total monthly cost\n",
    "old_total_monthly = sum(monthly.values())\n",
    "print(f\"\\nOld total monthly cost: {old_total_monthly:.2f} €\")\n",
    "\n",
    "# New monthly expenses (alternative version)\n",
    "new_monthly_version = {\"new_fitnesscenter\": 45, \"no_car\": 0}\n",
    "new_monthly_total = sum(new_monthly_version.values())\n",
    "\n",
    "# Function to calculate and print the difference\n",
    "def calculate_difference(a, b):\n",
    "    diff = a - b\n",
    "    print(f\"\\nThe difference between having a car and going to the low cost fitnesscenter vs. no car and going to the new fitnesscenter is: {diff:.2f} €\")\n",
    "\n",
    "# Compare old vs. new monthly costs\n",
    "calculate_difference(old_total_monthly, new_monthly_total)\n"
   ]
  }
 ],
 "metadata": {
  "kernelspec": {
   "display_name": "Python 3 (ipykernel)",
   "language": "python",
   "name": "python3"
  },
  "language_info": {
   "codemirror_mode": {
    "name": "ipython",
    "version": 3
   },
   "file_extension": ".py",
   "mimetype": "text/x-python",
   "name": "python",
   "nbconvert_exporter": "python",
   "pygments_lexer": "ipython3",
   "version": "3.12.7"
  }
 },
 "nbformat": 4,
 "nbformat_minor": 5
}
