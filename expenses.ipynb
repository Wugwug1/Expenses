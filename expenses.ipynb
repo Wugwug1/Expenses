{
 "cells": [
  {
   "cell_type": "code",
   "execution_count": null,
   "id": "287ab6e7-1f55-4f2d-a7f4-ddc55534c562",
   "metadata": {},
   "outputs": [],
   "source": []
  }
 ],
 "metadata": {
  "kernelspec": {
   "display_name": "",
   "name": ""
  },
  "language_info": {
   "name": ""
  }
 },
 "nbformat": 4,
 "nbformat_minor": 5
}
